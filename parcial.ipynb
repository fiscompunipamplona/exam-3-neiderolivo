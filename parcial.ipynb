{
 "cells": [
  {
   "cell_type": "markdown",
   "metadata": {},
   "source": [
    "\n",
    "## Difusión térmica en la corteza terrestre.\n",
    "\n",
    "Un ejemplo clásico de un problema de difusión con una condición límite variable en el tiempo es la difusión\n",
    "de calor en la corteza terrestre, ya que la temperatura de la superficie varía con las estaciones. Suponer\n",
    "La temperatura media diaria en un punto particular de la superficie varía como:\n",
    "\n",
    "\\begin{equation*}\n",
    "T_0(t) = A + B\\sin {2\\pi t\\over\\tau},\n",
    "\\end{equation*}\n",
    "\n",
    "donde  $\\tau=365\\,$ dias, $A=10^\\circ$C y $B=12^\\circ$C.  A una profundidad de 20 m debajo de la superficie, casi todos\n",
    "La variación anual de temperatura se resuelve y la temperatura es, en buena aproximación,\n",
    "una constante de $11^\\circ$C (que es mayor que la temperatura media de la superficie de $10^\\circ$C — temperatura\n",
    "aumenta con la profundidad, debido al calentamiento del núcleo caliente del planeta). La difusividad térmica\n",
    "de la corteza terrestre varía un poco de un lugar a otro, pero para nuestros propósitos lo trataremos\n",
    "como constante con valor $D=0.1\\,\\mathrm{m}^2\\,\\mathrm{day}^{-1}$.\n",
    "\n",
    "Escriba un programa o modifique uno de los que se incluyen en este capítulo para calcular la temperatura.\n",
    "Perfil de la corteza en función de una profundidad de hasta 20 my un tiempo de hasta 10 años. Empezar con\n",
    "temperatura en todas partes igual a 10 ° C, excepto en la superficie y el punto más profundo, elija\n",
    "valores para el número de puntos de cuadrícula y el paso de tiempo h, luego ejecute su programa por primera vez\n",
    "nueve años simulados, para permitirle establecerse en cualquier patrón que alcance. Entonces para el\n",
    "décimo y último año grafique cuatro perfiles de temperatura tomados a intervalos de 3 meses en un solo gráfico\n",
    "para ilustrar cómo cambia la temperatura en función de la profundidad y el tiempo."
   ]
  },
  {
   "cell_type": "code",
   "execution_count": 4,
   "metadata": {},
   "outputs": [
    {
     "data": {
      "image/png": "[encoded data removed]",
      "text/plain": [
       "<Figure size 432x288 with 1 Axes>"
      ]
     },
     "metadata": {
      "needs_background": "light"
     },
     "output_type": "display_data"
    }
   ],
   "source": [
    "from numpy import empty, zeros\n",
    "from pylab import imshow,gray, show, hot,inferno,cool,plot,xlabel,ylabel,legend\n",
    "from scipy import array, arange, pi, sin, cos\n",
    "\n",
    "\n",
    "\n",
    "\n",
    "#constantes \n",
    "A=10.  #temperatura grados centigrados\n",
    "tau=365 #tiempo en dias \n",
    "B=12.  #temperatura grados centigrados\n",
    "D=0.1  #difusividad termica en metros cuadrados por dias a la menos 1\n",
    "L=20   #distancia en metros\n",
    "N=100  #numero de divisiones de la grilla\n",
    "a=L/N #espaciado de la particula\n",
    "h=0.1 #paso en el timepo \n",
    "epsilon = h/100\n",
    "\n",
    "\n",
    "def T0(t):\n",
    "    return A + B*sin(2*pi*t/tau)\n",
    "\n",
    "tmin = 365*9 #tiempo minimo de 9 años \n",
    "t1 = tmin   #9 años\n",
    "t2 = tmin + 90 #9 años mas tres meses \n",
    "t3 = t2 + 90  #9 años mas seis meses \n",
    "t4 = t3 + 90  # 9 años mas nueve meses \n",
    "tend = t4+ epsilon \n",
    "\n",
    "#Creando arrays\n",
    "T = empty(N+1,float)\n",
    "T[1:N] = 10\n",
    "Tp = empty(N+1,float)\n",
    "\n",
    "#Bucle Principal\n",
    "t = 0.0\n",
    "c = h*D/(a*a)\n",
    "while t<tend:\n",
    "    \n",
    "    #Calcular los nuevos valores de T\n",
    "    T[0] = T0(t)\n",
    "    T[N] = 11\n",
    "    for i in range (1,N):\n",
    "        Tp[i] = T[i] + c*(T[i+1]+T[i-1]-2*T[i])\n",
    "    T,Tp = Tp,T\n",
    "    t += h\n",
    "    \n",
    "    #Hacer grafico en los tiempos dados\n",
    "    if abs(t-t1)<epsilon:\n",
    "        plot(T,\"r\")\n",
    "    if abs(t-t2)<epsilon:\n",
    "        plot(T,\"g\")\n",
    "    if abs(t-t3)<epsilon:\n",
    "        plot(T,\"b\")\n",
    "    if abs(t-t4)<epsilon:\n",
    "        plot(T,\"c\")\n",
    "xlabel(\"Profundidad\")\n",
    "ylabel(\"Temperatura\")\n",
    "show()"
   ]
  },
  {
   "cell_type": "markdown",
   "metadata": {},
   "source": [
    "es de notar que las energias varian en los primeros metros de  profundidad para luego finalmente tender a un valor constante, lo que indica que la funcion seno genera variaciones en el valor de la temperatura."
   ]
  },
  {
   "cell_type": "code",
   "execution_count": null,
   "metadata": {},
   "outputs": [],
   "source": []
  }
 ],
 "metadata": {
  "kernelspec": {
   "display_name": "Python 3",
   "language": "python",
   "name": "python3"
  },
  "language_info": {
   "codemirror_mode": {
    "name": "ipython",
    "version": 3
   },
   "file_extension": ".py",
   "mimetype": "text/x-python",
   "name": "python",
   "nbconvert_exporter": "python",
   "pygments_lexer": "ipython3",
   "version": "3.7.3"
  }
 },
 "nbformat": 4,
 "nbformat_minor": 2
}
